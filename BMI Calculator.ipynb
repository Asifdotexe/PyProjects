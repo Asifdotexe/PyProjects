{
 "cells": [
  {
   "cell_type": "markdown",
   "id": "b26fc469",
   "metadata": {},
   "source": [
    "# BMI Calculator"
   ]
  },
  {
   "cell_type": "markdown",
   "id": "8cb00e77",
   "metadata": {},
   "source": [
    "Body mass index (BMI) is calculated by dividing a person's height in metres squared by their weight in kilogrammes. The BMI is a low-cost and simple method for determining a person's weight category—underweight, healthy weight, overweight, and obese."
   ]
  },
  {
   "cell_type": "code",
   "execution_count": null,
   "id": "08e279af",
   "metadata": {},
   "outputs": [],
   "source": [
    "#Below 18.5\tUnderweight\n",
    "#18.5 – 24.9\tHealthy Weight\n",
    "#25.0 – 29.9\tOverweight\n",
    "#30.0 and Above\tObesity"
   ]
  },
  {
   "cell_type": "code",
   "execution_count": null,
   "id": "4e61e269",
   "metadata": {},
   "outputs": [],
   "source": [
    "# writing the code into try block to handle wrong datatype input\n",
    "try:\n",
    "    name = input(\"Welcome to the BMI calculaor, please enter your name: \")\n",
    "    weight = int(input(\"Please input your weight in KGs: \"))\n",
    "    height = float(input(\"Please input your height in meters: \"))\n",
    "    \n",
    "    # formula used for calculation\n",
    "    BMI = weight/(height*height)\n",
    "    print(\"Your BMI Score is,\"BMI)\n",
    "\n",
    "    # control flow statements \n",
    "    if BMI <= 18.5:\n",
    "        print(name,\", you are underweight\")\n",
    "    elif BMI <= 24.9:\n",
    "        print(name,\", you are healthy weight\")\n",
    "    elif BMI <= 29.9:\n",
    "        print(name,\", you are overweight\")\n",
    "    elif BMI > 30.0:\n",
    "        print(name,\", you are obese\")\n",
    "        \n",
    "# except block to prompt the user that they have inputted non-numeric value in weight or height prompt\n",
    "# using expect to prevent the code being halted due to errors\n",
    "except:\n",
    "    print(\"-\"*20)\n",
    "    print(\"ATTENTION!!!!\")\n",
    "    print(\"Please enter a numberic value in the input box!\")\n",
    "    \n",
    "# finally will run regardless, if the code encounters a error or not\n",
    "finally:\n",
    "    print(\"-\"*20)\n",
    "    print(\"Thanks for using my BMI calculator, stay healthy\")"
   ]
  }
 ],
 "metadata": {
  "kernelspec": {
   "display_name": "Python 3 (ipykernel)",
   "language": "python",
   "name": "python3"
  },
  "language_info": {
   "codemirror_mode": {
    "name": "ipython",
    "version": 3
   },
   "file_extension": ".py",
   "mimetype": "text/x-python",
   "name": "python",
   "nbconvert_exporter": "python",
   "pygments_lexer": "ipython3",
   "version": "3.9.13"
  }
 },
 "nbformat": 4,
 "nbformat_minor": 5
}
