{
 "cells": [
  {
   "cell_type": "markdown",
   "id": "b39e8f0a",
   "metadata": {},
   "source": [
    "# Automatic File Sorter in File Explorer"
   ]
  },
  {
   "cell_type": "code",
   "execution_count": 2,
   "id": "d9da5356",
   "metadata": {},
   "outputs": [
    {
     "name": "stdout",
     "output_type": "stream",
     "text": [
      "Python Files created succesfully\n",
      "Image Files created succesfully\n",
      "Excel Files created succesfully\n",
      "Moved 1 file to Python Files\n",
      "Moved 1 file to Python Files\n",
      "Moved 1 file to Python Files\n",
      "Moved 1 file to Python Files\n",
      "Moved 1 file to Image Files\n",
      "Moved 1 file to Excel Files\n",
      "Moved 1 file to Excel Files\n",
      "Moved 1 file to Python Files\n"
     ]
    }
   ],
   "source": [
    "#importing libraries\n",
    "import os, shutil\n",
    "\n",
    "#defining the path\n",
    "path = r\"C:\\\\Users\\\\Asif Sayyed\\\\Documents\\\\Projects\\\\testfolder\\\\\"\n",
    "\n",
    "#shows all the files in the path\n",
    "file_names = os.listdir(path)\n",
    "\n",
    "#loops through the folder and check if the following files exists\n",
    "#if those files don't exist it will create them\n",
    "\n",
    "folder_names = ['Python Files', 'Image Files','Excel Files','PDF Files']\n",
    "\n",
    "for i in range(0,3):\n",
    "    if not os.path.exists(path + folder_names[i]):\n",
    "        print(folder_names[i],\"created succesfully\")\n",
    "        os.makedirs((path + folder_names[i]))\n",
    "\n",
    "#This for loop will loop thought the list of file names\n",
    "#it will check if the current file has the extention\n",
    "#and it will move it to the folder if it isn't already moved\n",
    "\n",
    "for i in file_names:    \n",
    "    if \".ipynb\" in i and not os.path.exists(path + \"Python Files/\" + i):\n",
    "        shutil.move(path + i,path + \"Python Files/\" + i)\n",
    "        print(\"Moved 1 file to Python Files\")      \n",
    "    elif \".jpg\" in i and not os.path.exists(path + \"Image Files/\" + i):\n",
    "        shutil.move(path + i,path + \"Image Files/\" + i)\n",
    "        print(\"Moved 1 file to Image Files\")     \n",
    "    elif \".xlsx\" in i and not os.path.exists(path + \"Excel Files/\" + i):\n",
    "        shutil.move(path + i,path + \"Excel Files/\" + i)\n",
    "        print(\"Moved 1 file to Excel Files\")     \n",
    "    else:\n",
    "        print(\"Note:There are some files in this path that were not moved\")"
   ]
  }
 ],
 "metadata": {
  "kernelspec": {
   "display_name": "Python 3 (ipykernel)",
   "language": "python",
   "name": "python3"
  },
  "language_info": {
   "codemirror_mode": {
    "name": "ipython",
    "version": 3
   },
   "file_extension": ".py",
   "mimetype": "text/x-python",
   "name": "python",
   "nbconvert_exporter": "python",
   "pygments_lexer": "ipython3",
   "version": "3.9.13"
  }
 },
 "nbformat": 4,
 "nbformat_minor": 5
}
